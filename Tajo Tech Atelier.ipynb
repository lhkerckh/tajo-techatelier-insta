{
 "cells": [
  {
   "cell_type": "markdown",
   "metadata": {},
   "source": [
    "# TAJO Atelier: Analyseer Instagram posts"
   ]
  },
  {
   "cell_type": "markdown",
   "metadata": {},
   "source": [
    "### Bibliotheken importeren"
   ]
  },
  {
   "cell_type": "code",
   "execution_count": null,
   "metadata": {},
   "outputs": [],
   "source": [
    "import os \n",
    "import json\n",
    "import pprint\n",
    "\n",
    "import requests as r\n",
    "import pandas as pd  \n",
    "import numpy  as np\n",
    "import seaborn as sns\n",
    "import matplotlib.pyplot as plt\n",
    "\n",
    "from instascrape import Profile, scrape_posts"
   ]
  },
  {
   "cell_type": "code",
   "execution_count": null,
   "metadata": {},
   "outputs": [],
   "source": [
    "#alt.renderers.enable('notebook'); # for rendering in jupyter notebook"
   ]
  },
  {
   "cell_type": "markdown",
   "metadata": {},
   "source": [
    "## Zetten van de session id"
   ]
  },
  {
   "cell_type": "code",
   "execution_count": null,
   "metadata": {},
   "outputs": [],
   "source": [
    "AUTOMATISCH_SESSION_ID = True\n",
    "\n",
    "if AUTOMATISCH_SESSION_ID:\n",
    "    url = 'https://tajo-atelier.loophole.site/opstartinfo.txt'\n",
    "    my_session_id = r.get(url).text       "
   ]
  },
  {
   "cell_type": "markdown",
   "metadata": {},
   "source": [
    "## Enkele technische details voor de browser meegeven aan onze computer"
   ]
  },
  {
   "cell_type": "code",
   "execution_count": null,
   "metadata": {},
   "outputs": [],
   "source": [
    "headers = {\n",
    "    \"user-agent\": \"Mozilla/5.0 (Linux; Android 6.0; Nexus 5 Build/MRA58N) AppleWebKit/537.36 (KHTML, like Gecko) Chrome/87.0.4280.88 Mobile Safari/537.36 Edg/87.0.664.57\",\n",
    "    \"cookie\": f\"sessionid={my_session_id};\"\n",
    "}"
   ]
  },
  {
   "cell_type": "markdown",
   "metadata": {},
   "source": [
    "## Onze instagram dataset creëren.\n",
    "We willen graag kijken op welk moment Billie Eilish haar posts het goed doen.\n",
    "\n",
    "#### 1. Eerst gaan we kijken om connectie te maken met haar profiel\n",
    "\n"
   ]
  },
  {
   "cell_type": "code",
   "execution_count": null,
   "metadata": {},
   "outputs": [],
   "source": [
    "billie = Profile('billieeilish')\n",
    "billie.scrape(headers=headers)"
   ]
  },
  {
   "cell_type": "markdown",
   "metadata": {},
   "source": [
    "#### 2. Hierna proberen we haar recente posts op te halen doormiddel van een aantal functies"
   ]
  },
  {
   "cell_type": "code",
   "execution_count": null,
   "metadata": {},
   "outputs": [],
   "source": [
    "billie_recent_posts = billie.get_recent_posts()\n",
    "billie_recent_posts = billie.get_recent_posts()\n",
    "billie_recent_posts"
   ]
  },
  {
   "cell_type": "markdown",
   "metadata": {},
   "source": [
    "#### 3. Eens kijken wat type object billie eigenlijk is"
   ]
  },
  {
   "cell_type": "code",
   "execution_count": null,
   "metadata": {},
   "outputs": [],
   "source": [
    "print(billie)"
   ]
  },
  {
   "cell_type": "markdown",
   "metadata": {},
   "source": [
    "#### 4. Vervolgens structureren we onze gegevens not een beetje meer zo dat ook wij dit kunnen lezen.\n",
    "  Veel zaken in programmeer taal zijn in het engels, dus dat kan altijd een beetje wennen zijn."
   ]
  },
  {
   "cell_type": "code",
   "execution_count": null,
   "metadata": {},
   "outputs": [],
   "source": [
    "posts_df = pd.DataFrame(post.to_dict() for post in billie_recent_posts)\n",
    "posts_df[['id','display_url','upload_date', 'comments', 'likes']]"
   ]
  },
  {
   "cell_type": "markdown",
   "metadata": {},
   "source": [
    "#### 5. Naast de algemene informatie die we al hebben, willen we ook weten op welk uur exact de post geplaatst is."
   ]
  },
  {
   "cell_type": "code",
   "execution_count": null,
   "metadata": {},
   "outputs": [],
   "source": [
    "posts_df = pd.DataFrame(post.to_dict() for post in billie_recent_posts)\n",
    "posts_df[['id','display_url','upload_date', 'comments', 'likes']]\n",
    "\n",
    "posts_df['uur_van_de_dag'] = posts_df.upload_date.map(lambda dt: dt.hour)\n",
    "posts_df[['id','display_url','upload_date', 'uur_van_de_dag', 'comments', 'likes']]"
   ]
  },
  {
   "cell_type": "code",
   "execution_count": null,
   "metadata": {},
   "outputs": [],
   "source": [
    "df_billie_posts_grouped = posts_df.groupby('uur_van_de_dag').mean().reset_index()"
   ]
  },
  {
   "cell_type": "markdown",
   "metadata": {},
   "source": [
    "#### 6. Hier kunnen we mooi zien hoeveel likes een post gemiddeld heeft voor een bepaald uur"
   ]
  },
  {
   "cell_type": "code",
   "execution_count": null,
   "metadata": {
    "scrolled": true
   },
   "outputs": [],
   "source": [
    "df_billie_posts_grouped[['uur_van_de_dag','likes']]"
   ]
  },
  {
   "cell_type": "markdown",
   "metadata": {},
   "source": [
    "#### 7. Om dit nu makkelijk te kunnen analyseren zetten we dit in een grafiekje"
   ]
  },
  {
   "cell_type": "code",
   "execution_count": null,
   "metadata": {},
   "outputs": [],
   "source": [
    "plot = sns.barplot(\n",
    "    data=df_billie_posts_grouped,\n",
    "    x='uur_van_de_dag',\n",
    "    y='likes',\n",
    "    palette='Blues_d')\n",
    "\n",
    "plot.set_title('Billies likes per uur van de dag')"
   ]
  },
  {
   "cell_type": "code",
   "execution_count": null,
   "metadata": {
    "scrolled": false
   },
   "outputs": [],
   "source": [
    "jonatanmedart = Profile('jonatanmedart')\n",
    "jonatanmedart.scrape(headers=headers)\n",
    "jonatanmedart_posts = jonatanmedart.get_recent_posts()\n",
    "jonatanmedart_posts = jonatanmedart.get_recent_posts()\n",
    "\n",
    "df_jonatanmedart_posts = pd.DataFrame(post.to_dict() for post in jonatanmedart_posts)\n",
    "df_jonatanmedart_posts['uur_van_de_dag'] = df_jonatanmedart_posts.upload_date.map(lambda dt: dt.hour)\n",
    "df_jonatanmedart_posts[['id','display_url','upload_date', 'uur_van_de_dag', 'comments', 'likes']]\n",
    "\n",
    "df_jonatanmedart_posts_grouped = df_jonatanmedart_posts.groupby('uur_van_de_dag').mean().reset_index()"
   ]
  },
  {
   "cell_type": "code",
   "execution_count": null,
   "metadata": {
    "scrolled": true
   },
   "outputs": [],
   "source": [
    "df_jonatanmedart_posts_grouped[['uur_van_de_dag','likes']]"
   ]
  },
  {
   "cell_type": "code",
   "execution_count": null,
   "metadata": {},
   "outputs": [],
   "source": [
    "plot = sns.barplot(\n",
    "    data=df_jonatanmedart_posts_grouped,\n",
    "    x='uur_van_de_dag',\n",
    "    y='likes',\n",
    "    palette='Blues_d')#'flare' 'magma' 'rocket')\n",
    "\n",
    "plot.set_title('jonatanmedart likes per uur')"
   ]
  },
  {
   "cell_type": "markdown",
   "metadata": {},
   "source": [
    "## Nu is het aan jullie\n",
    "\n",
    "Vul jullie persoon van interesse in waar er < instagramnaam > staat en kijk of je kan zien wanneer deze persoon  \n",
    "het meeste likes haalt en of je daar een relatie in kan vinden."
   ]
  },
  {
   "cell_type": "code",
   "execution_count": null,
   "metadata": {
    "scrolled": false
   },
   "outputs": [],
   "source": [
    "< instagramnaam > = Profile('< instagramnaam >')\n",
    "< instagramnaam >.scrape(headers=headers)\n",
    "< instagramnaam >_posts = < instagramnaam >.get_recent_posts()\n",
    "< instagramnaam >_posts = < instagramnaam >.get_recent_posts()\n",
    "\n",
    "df_< instagramnaam >_posts = pd.DataFrame(post.to_dict() for post in < instagramnaam >_posts)\n",
    "df_< instagramnaam >_posts['uur_van_de_dag'] = df_< instagramnaam >_posts.upload_date.map(lambda dt: dt.hour)\n",
    "df_< instagramnaam >_posts[['id','display_url','upload_date', 'uur_van_de_dag', 'comments', 'likes']]\n",
    "\n",
    "df_< instagramnaam >_posts_grouped = df_< instagramnaam >_posts.groupby('uur_van_de_dag').mean().reset_index()"
   ]
  },
  {
   "cell_type": "code",
   "execution_count": null,
   "metadata": {
    "scrolled": true
   },
   "outputs": [],
   "source": [
    "df_< instagramnaam >_posts_grouped[['uur_van_de_dag','likes']]"
   ]
  },
  {
   "cell_type": "code",
   "execution_count": null,
   "metadata": {},
   "outputs": [],
   "source": [
    "plot = sns.barplot(\n",
    "    data=df_< instagramnaam >_posts_grouped,\n",
    "    x='uur_van_de_dag',\n",
    "    y='likes',\n",
    "    palette='Blues_d')\n",
    "\n",
    "plot.set_title('< instagramnaam > likes per uur')"
   ]
  },
  {
   "cell_type": "code",
   "execution_count": null,
   "metadata": {},
   "outputs": [],
   "source": []
  }
 ],
 "metadata": {
  "kernelspec": {
   "display_name": "Python 3",
   "language": "python",
   "name": "python3"
  },
  "language_info": {
   "codemirror_mode": {
    "name": "ipython",
    "version": 3
   },
   "file_extension": ".py",
   "mimetype": "text/x-python",
   "name": "python",
   "nbconvert_exporter": "python",
   "pygments_lexer": "ipython3",
   "version": "3.7.4"
  }
 },
 "nbformat": 4,
 "nbformat_minor": 4
}
